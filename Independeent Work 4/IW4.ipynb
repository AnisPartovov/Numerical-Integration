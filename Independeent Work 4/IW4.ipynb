{
 "cells": [
  {
   "cell_type": "code",
   "execution_count": 1,
   "id": "758f7d28",
   "metadata": {},
   "outputs": [],
   "source": [
    "import numpy as np\n",
    "import sympy as sym\n",
    "import matplotlib.pyplot as plt\n",
    "from sympy.abc import n, x\n",
    "import math"
   ]
  },
  {
   "cell_type": "code",
   "execution_count": 77,
   "id": "e49bdf46",
   "metadata": {},
   "outputs": [],
   "source": [
    "class Function:\n",
    "    def __init__(self, func, symbol):\n",
    "        self.func = func\n",
    "        self.symbol = symbol\n",
    "\n",
    "    def evaluate(self, x_values):\n",
    "        return [self.func.subs(self.symbol, i) for i in x_values]\n",
    "\n",
    "def analyze(f1, f2, start, end, terms, symbol=x):\n",
    "    func1 = Function(f1, symbol)\n",
    "    func2 = Function(f2, symbol)\n",
    "    \n",
    "    x_values = np.linspace(start, end, terms)\n",
    "    y_values_f1 = func1.evaluate(x_values)\n",
    "    y_values_f2 = func2.evaluate(x_values)\n",
    "    \n",
    "    \n",
    "    fig, ax1 = plt.subplots()\n",
    "    \n",
    "    ax1.plot(x_values, y_values_f1, c=\"b\", label = \"f1\")\n",
    "    ax1.set_xlabel(\"x\")\n",
    "    ax1.set_ylabel(\"f1\")\n",
    "    ax1.set_ylim([0, 1])\n",
    "         \n",
    "    ax2 = ax1.twinx()\n",
    "    \n",
    "    ax2.plot(x_values, y_values_f2, c=\"r\", label = \"f2\")\n",
    "    ax2.set_xlabel(\"x\")\n",
    "    ax2.set_ylabel(\"f2\")\n",
    "    ax2.set_ylim([0, 100])        \n",
    "    \n",
    "    lines, labels = ax1.get_legend_handles_labels()\n",
    "    lines2, labels2 = ax2.get_legend_handles_labels()\n",
    "    ax2.legend(lines+lines2, labels+labels2, loc=\"best\")\n",
    "    plt.show()"
   ]
  },
  {
   "cell_type": "code",
   "execution_count": 78,
   "id": "b26959a5",
   "metadata": {
    "scrolled": false
   },
   "outputs": [
    {
     "data": {
      "image/png": "[encoded data removed]",
      "text/plain": [
       "<Figure size 640x480 with 2 Axes>"
      ]
     },
     "metadata": {},
     "output_type": "display_data"
    }
   ],
   "source": [
    "f1 = 1/2**n\n",
    "f2 = 1.1**n\n",
    "\n",
    "analyze(f1, f2, -100, 100, 100, n)"
   ]
  },
  {
   "cell_type": "code",
   "execution_count": 3,
   "id": "3744eb6d",
   "metadata": {},
   "outputs": [],
   "source": [
    "def is_converging(a_n, n):\n",
    "    return sym.Sum(a_n, (n, 1, sym.oo)).is_absolutely_convergent()"
   ]
  },
  {
   "cell_type": "code",
   "execution_count": 4,
   "id": "52270d30",
   "metadata": {},
   "outputs": [
    {
     "name": "stdout",
     "output_type": "stream",
     "text": [
      "True\n",
      "False\n"
     ]
    }
   ],
   "source": [
    "f1 = 1/2**n\n",
    "f2 = 1.1**n\n",
    "print(is_converging(f1, n))\n",
    "print(is_converging(f2, n))"
   ]
  },
  {
   "cell_type": "code",
   "execution_count": 5,
   "id": "2b140370",
   "metadata": {},
   "outputs": [
    {
     "data": {
      "text/latex": [
       "$\\displaystyle - x + \\left(x - 1\\right)^{10} - \\left(x - 1\\right)^{9} + \\left(x - 1\\right)^{8} - \\left(x - 1\\right)^{7} + \\left(x - 1\\right)^{6} - \\left(x - 1\\right)^{5} + \\left(x - 1\\right)^{4} - \\left(x - 1\\right)^{3} + \\left(x - 1\\right)^{2} + 2$"
      ],
      "text/plain": [
       "-x + (x - 1)**10 - (x - 1)**9 + (x - 1)**8 - (x - 1)**7 + (x - 1)**6 - (x - 1)**5 + (x - 1)**4 - (x - 1)**3 + (x - 1)**2 + 2"
      ]
     },
     "execution_count": 5,
     "metadata": {},
     "output_type": "execute_result"
    }
   ],
   "source": [
    "def taylor(f, c, n):\n",
    "    terms = [sym.diff(f, x, i).subs(x, c) * (x - c)**i / sym.factorial(i) for i in range(n+1)]\n",
    "    return sum(terms)\n",
    "taylor(1/x, 1, 10)"
   ]
  },
  {
   "cell_type": "code",
   "execution_count": 6,
   "id": "b438c649",
   "metadata": {},
   "outputs": [
    {
     "data": {
      "text/latex": [
       "$\\displaystyle - \\frac{x^{5} \\log{\\left(2 \\right)}^{5}}{120} + \\frac{x^{4} \\log{\\left(2 \\right)}^{4}}{24} - \\frac{x^{3} \\log{\\left(2 \\right)}^{3}}{6} + \\frac{x^{2} \\log{\\left(2 \\right)}^{2}}{2} - x \\log{\\left(2 \\right)} + 1$"
      ],
      "text/plain": [
       "-x**5*log(2)**5/120 + x**4*log(2)**4/24 - x**3*log(2)**3/6 + x**2*log(2)**2/2 - x*log(2) + 1"
      ]
     },
     "execution_count": 6,
     "metadata": {},
     "output_type": "execute_result"
    }
   ],
   "source": [
    "def maclaurin(f, n):\n",
    "    return taylor(f, 0, n)\n",
    "maclaurin(1/2**x, 5)"
   ]
  },
  {
   "cell_type": "code",
   "execution_count": 7,
   "id": "4b164b56",
   "metadata": {},
   "outputs": [
    {
     "name": "stdout",
     "output_type": "stream",
     "text": [
      "Error: 0.0196059593972588\n"
     ]
    }
   ],
   "source": [
    "f = sym.lambdify(x, 1 / (1 + x ** 2))\n",
    "a = 0\n",
    "b = 1\n",
    "\n",
    "n_terms = 100\n",
    "\n",
    "x = sym.symbols('x')\n",
    "\n",
    "maclaurin_series = sym.series(f(x), x, 0, n_terms+1).removeO()\n",
    "\n",
    "integral = sym.integrate(maclaurin_series, (x, a, b))\n",
    "\n",
    "pi_approx = 4 * integral.evalf()\n",
    "\n",
    "error = abs(math.pi - pi_approx)\n",
    "\n",
    "print(f\"Error: {error}\")"
   ]
  },
  {
   "cell_type": "code",
   "execution_count": 8,
   "id": "cc85b561",
   "metadata": {},
   "outputs": [],
   "source": [
    "def ramanujan(n):\n",
    "    constant = 9801 / math.sqrt(8)\n",
    "    res = 0\n",
    "    for i in range(n + 1):\n",
    "        numerator = math.factorial(4 * i) * (1103 + 26390 * i)\n",
    "        denominator = math.factorial(i) * 396 ** (4 * i)\n",
    "        res += numerator / denominator\n",
    "    return constant / res"
   ]
  },
  {
   "cell_type": "code",
   "execution_count": 9,
   "id": "ac2efb9b",
   "metadata": {},
   "outputs": [
    {
     "name": "stdout",
     "output_type": "stream",
     "text": [
      "Error: 4.440892098500626e-15\n"
     ]
    }
   ],
   "source": [
    "error = abs(math.pi - ramanujan(100))\n",
    "print(f\"Error: {error}\")"
   ]
  },
  {
   "cell_type": "code",
   "execution_count": 10,
   "id": "992ed193",
   "metadata": {},
   "outputs": [
    {
     "name": "stdout",
     "output_type": "stream",
     "text": [
      "-85.0669890181369*sin(x) - 68.0535912145095*sin(2*x) - 51.0401934108821*sin(3*x) - 40.0315242438291*sin(4*x) - 32.7180726992834*sin(5*x) + 85.0669890181368*cos(x) + 34.0267956072547*cos(2*x) + 17.0133978036273*cos(3*x) + 10.0078810609572*cos(4*x) + 6.54361453985664*cos(5*x) + 85.0669890181368\n"
     ]
    }
   ],
   "source": [
    "def compute_fourier_series(f, num_terms):\n",
    "    PI = math.pi\n",
    "    TWO_PI = 2 * PI\n",
    "    a_0 = 1 / TWO_PI * sym.integrate(f, (x, 0, TWO_PI))\n",
    "    series = a_0\n",
    "    for n in range(1, num_terms + 1):\n",
    "        a_n = 1 / PI * sym.integrate(f * sym.cos(n * x), (x, 0, TWO_PI))\n",
    "        b_n = 1 / PI * sym.integrate(f * sym.sin(n * x), (x, 0, TWO_PI))\n",
    "        series += a_n * sym.cos(n * x) + b_n * sym.sin(n * x)\n",
    "\n",
    "    return series\n",
    "\n",
    "f = sym.exp(x)\n",
    "num_terms = 5\n",
    "fourier_approx = compute_fourier_series(f, num_terms)\n",
    "print(fourier_approx)"
   ]
  },
  {
   "cell_type": "code",
   "execution_count": null,
   "id": "f913f69a",
   "metadata": {},
   "outputs": [],
   "source": []
  }
 ],
 "metadata": {
  "kernelspec": {
   "display_name": "Python 3 (ipykernel)",
   "language": "python",
   "name": "python3"
  },
  "language_info": {
   "codemirror_mode": {
    "name": "ipython",
    "version": 3
   },
   "file_extension": ".py",
   "mimetype": "text/x-python",
   "name": "python",
   "nbconvert_exporter": "python",
   "pygments_lexer": "ipython3",
   "version": "3.10.10"
  }
 },
 "nbformat": 4,
 "nbformat_minor": 5
}
